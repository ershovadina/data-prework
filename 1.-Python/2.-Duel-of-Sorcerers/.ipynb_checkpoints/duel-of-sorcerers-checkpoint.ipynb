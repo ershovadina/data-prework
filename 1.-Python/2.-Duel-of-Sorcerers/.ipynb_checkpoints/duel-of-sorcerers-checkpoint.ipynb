{
 "cells": [
  {
   "cell_type": "markdown",
   "metadata": {},
   "source": [
    "<img src=\"https://bit.ly/2VnXWr2\" width=\"100\" align=\"left\">"
   ]
  },
  {
   "cell_type": "markdown",
   "metadata": {},
   "source": [
    "# Duel of Sorcerers\n",
    "You are witnessing an epic battle between two powerful sorcerers: Gandalf and Saruman. Each sorcerer has 10 spells of variable power in their mind and they are going to throw them one after the other. The winner of the duel will be the one who wins more of those clashes between spells. Spells are represented as a list of 10 integers whose value equals the power of the spell.\n",
    "```\n",
    "gandalf = [10, 11, 13, 30, 22, 11, 10, 33, 22, 22]\n",
    "saruman = [23, 66, 12, 43, 12, 10, 44, 23, 12, 17]\n",
    "```\n",
    "For example:\n",
    "- The first clash is won by Saruman: 10 against 23.\n",
    "- The second clash is won by Saruman: 11 against 66.\n",
    "- ...\n",
    "\n",
    "You will create two variables, one for each sorcerer, where the sum of clashes won will be stored. Depending on which variable is greater at the end of the duel, you will show one of the following three results on the screen:\n",
    "* Gandalf wins\n",
    "* Saruman wins\n",
    "* Tie\n",
    "\n",
    "<img src=\"images/content_lightning_bolt_big.jpg\" width=\"400\">"
   ]
  },
  {
   "cell_type": "markdown",
   "metadata": {},
   "source": [
    "## Tools\n",
    "You don't necessarily need to use all the tools. Maybe you opt to use some of them or completely different ones, they are given to help you shape the exercise. Programming exercises can be solved in many different ways.\n",
    "\n",
    "1. Data structures: **lists, dictionaries**\n",
    "2. Loop: **for loop**\n",
    "3. Conditional statements: **if-elif-else**\n",
    "4. Functions: **range(), len(), print()**\n",
    "\n",
    "## Tasks\n",
    "\n",
    "#### 1. Create two variables called `gandalf` and `saruman` and assign them the spell power lists. Create a variable called `spells` to store the number of spells that the sorcerers cast. "
   ]
  },
  {
   "cell_type": "code",
   "execution_count": 10,
   "metadata": {},
   "outputs": [],
   "source": [
    "gandalf = [10, 11, 13, 30, 22, 11, 10, 33, 22, 22]\n",
    "saruman = [23, 66, 12, 43, 12, 10, 44, 23, 12, 17]\n",
    "\n",
    "spells = 0"
   ]
  },
  {
   "cell_type": "markdown",
   "metadata": {},
   "source": [
    "#### 2. Create two variables called `gandalf_wins` and `saruman_wins`. Set both of them to 0. \n",
    "You will use these variables to count the number of clashes each sorcerer wins. "
   ]
  },
  {
   "cell_type": "code",
   "execution_count": 11,
   "metadata": {},
   "outputs": [],
   "source": [
    "gandalf_wins = 0\n",
    "saruman_wins = 0"
   ]
  },
  {
   "cell_type": "markdown",
   "metadata": {},
   "source": [
    "#### 3. Using the lists of spells of both sorcerers, update variables `gandalf_wins` and `saruman_wins` to count the number of times each sorcerer wins a clash. "
   ]
  },
  {
   "cell_type": "code",
   "execution_count": 12,
   "metadata": {
    "scrolled": true
   },
   "outputs": [
    {
     "name": "stdout",
     "output_type": "stream",
     "text": [
      "The first clash is won by Saruman: 10 against 23\n",
      "The second clash is won by Saruman: 11 against 66\n",
      "The third clash is won by Gandalf: 12 against 13\n",
      "The forth clash is won by Saruman: 30 against 43\n",
      "The fifth clash is won by Gandalf: 12 against 22\n",
      "The sixth clash is won by Gandalf: 10 against 11\n",
      "The seventh clash is won by Saruman: 10 against 44\n",
      "The eighth clash is won by Gandalf: 23 against 33\n",
      "The ninth clash is won by Gandalf: 12 against 22\n",
      "The tenth clash is won by Gandalf: 17 against 22\n",
      "\n",
      "The total number of clashes is 10\n",
      "The number of times Gandalf wins a clash is 6\n",
      "The number of times Saruman wins a clash is 4\n"
     ]
    }
   ],
   "source": [
    "numbers = {1:'first', 2:'second', 3:'third', 4:'forth', 5:'fifth',  6:'sixth',  7:'seventh',  8:'eighth',  9:'ninth',  10:'tenth'}\n",
    "\n",
    "for i in range(0,len(gandalf)): \n",
    "    spells += 1\n",
    "    if gandalf [i] > saruman [i]:\n",
    "        gandalf_wins += 1\n",
    "        print (\"The\", numbers.get(spells), \"clash is won by Gandalf:\", saruman [i], \"against\", gandalf [i])\n",
    "    elif gandalf [i] < saruman [i]:\n",
    "        saruman_wins += 1\n",
    "        print (\"The\", numbers.get(spells), \"clash is won by Saruman:\", gandalf [i], \"against\", saruman [i])\n",
    "    else:\n",
    "        print (\"The result of the\", numbers.get(spells), \"clash is tie\")\n",
    "        \n",
    "print(\"\")\n",
    "print(\"The total number of clashes is\", spells)\n",
    "print(\"The number of times Gandalf wins a clash is\", gandalf_wins)\n",
    "print(\"The number of times Saruman wins a clash is\", saruman_wins)"
   ]
  },
  {
   "cell_type": "markdown",
   "metadata": {},
   "source": [
    "#### 4. Who won the battle?\n",
    "Print `Gandalf wins`, `Saruman wins` or `Tie` depending on the result. "
   ]
  },
  {
   "cell_type": "code",
   "execution_count": 13,
   "metadata": {},
   "outputs": [
    {
     "name": "stdout",
     "output_type": "stream",
     "text": [
      "Gandalf wins\n"
     ]
    }
   ],
   "source": [
    "if gandalf_wins == saruman_wins:\n",
    "    print(\"Tie\")\n",
    "elif saruman_wins > gandalf_wins:\n",
    "    print(\"Saruman wins\")\n",
    "elif gandalf_wins > saruman_wins:\n",
    "    print(\"Gandalf wins\")\n",
    "else:\n",
    "    (\"Something is wrong\")"
   ]
  },
  {
   "cell_type": "markdown",
   "metadata": {},
   "source": [
    "## Bonus\n",
    "\n",
    "In this bonus challenge, you'll need to check the winner of the battle but this time, a sorcerer wins if he succeeds in winning 3 spell clashes in a row.\n",
    "\n",
    "Also, the spells now have a name and there is a dictionary that associates that name to a power.\n",
    "\n",
    "```\n",
    "POWER = {\n",
    "    'Fireball': 50, \n",
    "    'Lightning bolt': 40, \n",
    "    'Magic arrow': 10, \n",
    "    'Black Tentacles': 25, \n",
    "    'Contagion': 45\n",
    "}\n",
    "\n",
    "gandalf = ['Fireball', 'Lightning bolt', 'Lightning bolt', 'Magic arrow', 'Fireball', \n",
    "           'Magic arrow', 'Lightning bolt', 'Fireball', 'Fireball', 'Fireball']\n",
    "saruman = ['Contagion', 'Contagion', 'Black Tentacles', 'Fireball', 'Black Tentacles', \n",
    "           'Lightning bolt', 'Magic arrow', 'Contagion', 'Magic arrow', 'Magic arrow']\n",
    "```\n",
    "\n",
    "#### 1. Create variables `POWER`, `gandalf` and `saruman` as seen above. Create a variable called `spells` to store the number of spells that the sorcerers cast. "
   ]
  },
  {
   "cell_type": "code",
   "execution_count": 14,
   "metadata": {},
   "outputs": [],
   "source": [
    "POWER = {\n",
    "    'Fireball': 50, \n",
    "    'Lightning bolt': 40, \n",
    "    'Magic arrow': 10, \n",
    "    'Black Tentacles': 25, \n",
    "    'Contagion': 45\n",
    "}\n",
    "\n",
    "gandalf = ['Fireball', 'Lightning bolt', 'Lightning bolt', 'Magic arrow', 'Fireball', \n",
    "           'Magic arrow', 'Lightning bolt', 'Fireball', 'Fireball', 'Fireball']\n",
    "saruman = ['Contagion', 'Contagion', 'Black Tentacles', 'Fireball', 'Black Tentacles', \n",
    "           'Lightning bolt', 'Magic arrow', 'Contagion', 'Magic arrow', 'Magic arrow']\n",
    "\n",
    "spells = 0"
   ]
  },
  {
   "cell_type": "markdown",
   "metadata": {},
   "source": [
    "#### 2. Create two variables called `gandalf_wins` and `saruman_wins`. Set both of them to 0. "
   ]
  },
  {
   "cell_type": "code",
   "execution_count": 18,
   "metadata": {},
   "outputs": [],
   "source": [
    "gandalf_wins = []\n",
    "saruman_wins = []"
   ]
  },
  {
   "cell_type": "markdown",
   "metadata": {},
   "source": [
    "#### 3. Create two variables called `gandalf_power` and `saruman_power` to store the list of spell powers of each sorcerer."
   ]
  },
  {
   "cell_type": "code",
   "execution_count": 19,
   "metadata": {},
   "outputs": [
    {
     "name": "stdout",
     "output_type": "stream",
     "text": [
      "[50, 40, 40, 10, 50, 10, 40, 50, 50, 50]\n",
      "[45, 45, 25, 50, 25, 40, 10, 45, 10, 10]\n"
     ]
    }
   ],
   "source": [
    "gandalf_power = []\n",
    "saruman_power = []\n",
    "\n",
    "for i in gandalf: gandalf_power.append(POWER[i])\n",
    "\n",
    "print(gandalf_power)\n",
    "\n",
    "for i in saruman: saruman_power.append(POWER[i])\n",
    "\n",
    "print(saruman_power)"
   ]
  },
  {
   "cell_type": "markdown",
   "metadata": {},
   "source": [
    "#### 4. The battle starts! Using the variables you've created above, code the execution of spell clashes. Remember that a sorcerer wins if he succeeds in winning 3 spell clashes in a row. \n",
    "If a clash ends up in a tie, the counter of wins in a row is not restarted to 0. Remember to print who is the winner of the battle. "
   ]
  },
  {
   "cell_type": "code",
   "execution_count": 20,
   "metadata": {},
   "outputs": [
    {
     "name": "stdout",
     "output_type": "stream",
     "text": [
      "[1, 3, 5, 7, 8, 9, 10]\n",
      "[2, 4, 6]\n",
      "\n",
      "[1, 1, 1, 1, 2, 3, 4]\n",
      "Gandalf wins 4 clashes in a row\n",
      "[1, 1, 1]\n",
      "Saruman wins 1 clashes in a row\n",
      "\n",
      "Gandalf wins the battle\n"
     ]
    }
   ],
   "source": [
    "for i in range(0,len(gandalf)): \n",
    "    spells += 1\n",
    "    if gandalf_power [i] > saruman_power [i]:\n",
    "        gandalf_wins.append(i+1)\n",
    "    elif gandalf_power [i] < saruman_power [i]:\n",
    "        saruman_wins.append(i+1)\n",
    "\n",
    "print(gandalf_wins)\n",
    "print(saruman_wins)\n",
    "print()\n",
    "\n",
    "#creating a list that counts how many clashes in a row Gandalf wins\n",
    "count_gandalf = 1\n",
    "count_gandalf_lst = []\n",
    "count_gandalf_lst.append(count_gandalf) \n",
    "for i in range (1,len(gandalf_wins)):\n",
    "    x = gandalf_wins[i] - gandalf_wins[i-1]\n",
    "    if x == 1:\n",
    "        count_gandalf += 1\n",
    "        count_gandalf_lst.append(count_gandalf)\n",
    "    else:\n",
    "        count_gandalf = 1\n",
    "        count_gandalf_lst.append(count_gandalf)\n",
    "        \n",
    "print(count_gandalf_lst)\n",
    "print(\"Gandalf wins\", max(count_gandalf_lst), \"clashes in a row\")\n",
    "\n",
    "#creating a list that counts how many clashes in a row Saruman wins\n",
    "count_saruman = 1\n",
    "count_saruman_lst = []\n",
    "count_saruman_lst.append(count_saruman) \n",
    "for i in range (1,len(saruman_wins)):\n",
    "    x = saruman_wins[i] - saruman_wins[i-1]\n",
    "    if x == 1:\n",
    "        count_saruman += 1\n",
    "        count_saruman_lst.append(count_saruman)\n",
    "    else:\n",
    "        count_saruman = 1\n",
    "        count_saruman_lst.append(count_saruman)\n",
    "        \n",
    "print(count_saruman_lst)\n",
    "print(\"Saruman wins\", max(count_saruman_lst), \"clashes in a row\")\n",
    "\n",
    "print()\n",
    "\n",
    "#finding the winner of the battle\n",
    "if (max(count_gandalf_lst) >= 3) & (max(count_saruman_lst) >= 3):\n",
    "    print (\"Tie\")\n",
    "elif max(count_gandalf_lst) >= 3:\n",
    "    print (\"Gandalf wins the battle\")\n",
    "elif max(count_saruman_lst) >= 3:\n",
    "    print (\"Saruman wins the battle\")                                  "
   ]
  },
  {
   "cell_type": "markdown",
   "metadata": {},
   "source": [
    "#### 5. Find the average spell power of Gandalf and Saruman. "
   ]
  },
  {
   "cell_type": "code",
   "execution_count": 21,
   "metadata": {},
   "outputs": [
    {
     "name": "stdout",
     "output_type": "stream",
     "text": [
      "The average spell power of Gandalf is 39.0\n",
      "The average spell power of Saruman is 30.5\n"
     ]
    }
   ],
   "source": [
    "average_gandalf = sum(gandalf_power)/len(gandalf_power)\n",
    "average_saruman = sum(saruman_power)/len(saruman_power)\n",
    "\n",
    "print (\"The average spell power of Gandalf is\", average_gandalf)\n",
    "print (\"The average spell power of Saruman is\", average_saruman)"
   ]
  },
  {
   "cell_type": "markdown",
   "metadata": {},
   "source": [
    "#### 6. Find the standard deviation of the spell power of Gandalf and Saruman. "
   ]
  },
  {
   "cell_type": "code",
   "execution_count": 22,
   "metadata": {},
   "outputs": [
    {
     "name": "stdout",
     "output_type": "stream",
     "text": [
      "The standard deviation of the spell power of Gandalf is 11.450000000000001\n",
      "The standard deviation of the spell power of Saruman is 12.1125\n"
     ]
    }
   ],
   "source": [
    "x_G = 0\n",
    "\n",
    "for i in range (0,len(gandalf_power)):\n",
    "    x_G += (gandalf_power[i]-average_gandalf)**2\n",
    "    \n",
    "standard_deviation_G = (x_G / len(gandalf_power))*0.05\n",
    "\n",
    "x_S = 0\n",
    "\n",
    "for i in range (0,len(saruman_power)):\n",
    "    x_S += (saruman_power[i]-average_saruman)**2\n",
    "    \n",
    "standard_deviation_S = (x_S / len(saruman_power))*0.05\n",
    "\n",
    "print (\"The standard deviation of the spell power of Gandalf is\", standard_deviation_G)\n",
    "print (\"The standard deviation of the spell power of Saruman is\", standard_deviation_S)"
   ]
  }
 ],
 "metadata": {
  "kernelspec": {
   "display_name": "Python 3",
   "language": "python",
   "name": "python3"
  },
  "language_info": {
   "codemirror_mode": {
    "name": "ipython",
    "version": 3
   },
   "file_extension": ".py",
   "mimetype": "text/x-python",
   "name": "python",
   "nbconvert_exporter": "python",
   "pygments_lexer": "ipython3",
   "version": "3.8.6"
  }
 },
 "nbformat": 4,
 "nbformat_minor": 2
}
