{
 "cells": [
  {
   "cell_type": "markdown",
   "metadata": {},
   "source": [
    "<img src=\"https://bit.ly/2VnXWr2\" width=\"100\" align=\"left\">"
   ]
  },
  {
   "cell_type": "markdown",
   "metadata": {},
   "source": [
    "# Rock, Paper & Scissors\n",
    "\n",
    "Let's play the famous game against our computer. You can check the rules [here](https://en.wikipedia.org/wiki/Rock%E2%80%93paper%E2%80%93scissors). \n",
    "\n",
    "## Task\n",
    "Create a program that imitates the playability of the well known game of rock, paper, scissors. Follow the guidelines provided.\n",
    "\n",
    "## Tools\n",
    "1. Loop: **for/while**\n",
    "2. Functions: **input(), print()...**\n",
    "3. Conditional statements: **if, elif, else**\n",
    "4. Definition of functions. Modular programming\n",
    "5. Import modules\n",
    "\n",
    "**To solve this challenge, the use of functions is recommended.**\n",
    "\n",
    "#### 1. Import the choice function of the random module."
   ]
  },
  {
   "cell_type": "code",
   "execution_count": 2,
   "metadata": {},
   "outputs": [],
   "source": [
    "import random"
   ]
  },
  {
   "cell_type": "markdown",
   "metadata": {},
   "source": [
    "#### 2. Create a list that includes the 3 possible gesture options of the game: 'rock', 'paper' or 'scissors'. Store the list in a variable called `gestures`."
   ]
  },
  {
   "cell_type": "code",
   "execution_count": 3,
   "metadata": {},
   "outputs": [],
   "source": [
    "gestures = ['rock', 'paper', 'scissors']"
   ]
  },
  {
   "cell_type": "markdown",
   "metadata": {},
   "source": [
    "#### 3. Create a variable called `n_rounds` to store the maximum number of rounds to play in a game. \n",
    "Remember that the number of rounds must be odd: 1, 3, 5, ..."
   ]
  },
  {
   "cell_type": "code",
   "execution_count": 4,
   "metadata": {},
   "outputs": [
    {
     "name": "stdout",
     "output_type": "stream",
     "text": [
      "Define the maximum number of rounds to play in a game: 3\n"
     ]
    }
   ],
   "source": [
    "def max_n_rounds ():\n",
    "\n",
    "    global n_rounds\n",
    "    n_rounds = int(input(\"Define the maximum number of rounds to play in a game: \"))\n",
    "\n",
    "    while n_rounds % 2 == 0:\n",
    "        print('Error! Please choose odd number (1,3,5,...)')\n",
    "        n_rounds = int(input(\"Define the maximum number of rounds to play in a game: \"))\n",
    "\n",
    "    return\n",
    "\n",
    "max_n_rounds ()"
   ]
  },
  {
   "cell_type": "markdown",
   "metadata": {},
   "source": [
    "#### 4. Create a variable called `rounds_to_win` to store the number of rounds that a player must win to win the game.\n",
    "**Hint**: the value stored in `rounds_to_win` depends on the value of `n_rounds`. "
   ]
  },
  {
   "cell_type": "code",
   "execution_count": 5,
   "metadata": {},
   "outputs": [],
   "source": [
    "rounds_to_win = int((n_rounds)/2)+1"
   ]
  },
  {
   "cell_type": "markdown",
   "metadata": {},
   "source": [
    "#### 5. Create two variables to store the number of rounds that the computer and the player have won. Call these variables `cpu_score` and `player_score`."
   ]
  },
  {
   "cell_type": "code",
   "execution_count": 6,
   "metadata": {},
   "outputs": [],
   "source": [
    "cpu_score = 0\n",
    "player_score = 0"
   ]
  },
  {
   "cell_type": "markdown",
   "metadata": {},
   "source": [
    "#### 6. Define a function that randomly returns one of the 3 gesture options.\n",
    "You will use this function to simulate the gesture choice of the computer. "
   ]
  },
  {
   "cell_type": "code",
   "execution_count": 7,
   "metadata": {},
   "outputs": [],
   "source": [
    "def computer (): \n",
    "    \n",
    "    global computer_choice\n",
    "    \n",
    "    computer_choice = str(random.choice(gestures))\n",
    "    \n",
    "    return"
   ]
  },
  {
   "cell_type": "markdown",
   "metadata": {},
   "source": [
    "#### 7. Define a function that asks the player which is the gesture he or she wants to show: 'rock', 'paper' or 'scissors'.\n",
    "The player should only be allowed to choose one of the 3 gesture options. If the player's choice is not rock, paper or scissors, keep asking until it is."
   ]
  },
  {
   "cell_type": "code",
   "execution_count": 8,
   "metadata": {},
   "outputs": [],
   "source": [
    "def player ():\n",
    "    \n",
    "    global player_choice\n",
    "\n",
    "    print('Options are:')\n",
    "    print('rock')\n",
    "    print('paper')\n",
    "    print('scissors')\n",
    "\n",
    "    player_choice = str(input('Please make a choice:  '))\n",
    "\n",
    "    while player_choice != 'rock' and player_choice != 'paper' and player_choice != 'scissors':\n",
    "        print('Error! Please choose from the options above.')\n",
    "        player_choice = str(input('Please make a selection: '))\n",
    "\n",
    "    return"
   ]
  },
  {
   "cell_type": "markdown",
   "metadata": {},
   "source": [
    "#### 8. Define a function that checks who won a round. \n",
    "The function should return 0 if there is a tie, 1 if the computer wins and 2 if the player wins."
   ]
  },
  {
   "cell_type": "code",
   "execution_count": 9,
   "metadata": {},
   "outputs": [],
   "source": [
    "def check_winner ():\n",
    "    \n",
    "    global winner\n",
    "    \n",
    "    if computer_choice == 'rock':\n",
    "        if player_choice == 'rock':\n",
    "            winner = 0  \n",
    "        elif player_choice == 'paper':\n",
    "            winner = 2\n",
    "        else:\n",
    "            winner = 1\n",
    "\n",
    "    elif computer_choice == 'paper':\n",
    "        if player_choice == 'paper':\n",
    "            winner = 0\n",
    "        elif player_choice == 'rock':\n",
    "            winner = 1\n",
    "        else:\n",
    "            winner = 2\n",
    "\n",
    "    elif computer_choice == 'scissors':\n",
    "        if player_choice == 'scissors':\n",
    "            winner = 0      \n",
    "        elif player_choice == 'rock':\n",
    "            winner = 2\n",
    "        else:\n",
    "            winner = 1\n",
    "    \n",
    "    return"
   ]
  },
  {
   "cell_type": "markdown",
   "metadata": {},
   "source": [
    "#### 9. Define a function that prints the choice of the computer, the choice of the player and a message that announces who won the current round. \n",
    "You should also use this function to update the variables that count the number of rounds that the computer and the player have won. The score of the winner increases by one point. If there is a tie, the score does not increase."
   ]
  },
  {
   "cell_type": "code",
   "execution_count": 10,
   "metadata": {},
   "outputs": [],
   "source": [
    "def print_winner ():\n",
    "    \n",
    "    print ('The player chooses', player_choice)\n",
    "    print ('The computer chooses', computer_choice)\n",
    "    \n",
    "    if winner == 0:\n",
    "        print(\"The game is tied.\")\n",
    "    elif winner == 1:\n",
    "        print(\"The computer wins.\")\n",
    "        global cpu_score\n",
    "        cpu_score += 1\n",
    "    elif winner == 2:\n",
    "        print(\"The player wins.\")\n",
    "        global player_score\n",
    "        player_score += 1\n",
    "        \n",
    "    return"
   ]
  },
  {
   "cell_type": "markdown",
   "metadata": {},
   "source": [
    "#### 10. Now it's time to code the execution of the game using the functions and variables you defined above. \n",
    "\n",
    "First, create a loop structure that repeats while no player reaches the minimum score necessary to win and the number of rounds is less than the maximum number of rounds to play in a game.  \n",
    "\n",
    "Inside the loop, use the functions and variables above to create the execution of a round: ask for the player's choice, generate the random choice of the computer, show the round results, update the scores, etc. "
   ]
  },
  {
   "cell_type": "code",
   "execution_count": 14,
   "metadata": {},
   "outputs": [
    {
     "name": "stdout",
     "output_type": "stream",
     "text": [
      "Define the maximum number of rounds to play in a game: 3\n",
      "\n",
      "Round 1\n",
      "Options are:\n",
      "rock\n",
      "paper\n",
      "scissors\n",
      "Please make a choice:  rock\n",
      "The player chooses rock\n",
      "The computer chooses paper\n",
      "The computer wins.\n",
      "\n",
      "Round 2\n",
      "Options are:\n",
      "rock\n",
      "paper\n",
      "scissors\n",
      "Please make a choice:  rock\n",
      "The player chooses rock\n",
      "The computer chooses paper\n",
      "The computer wins.\n",
      "\n",
      "No need to continue, we have a winner already\n"
     ]
    }
   ],
   "source": [
    "max_n_rounds ()\n",
    "\n",
    "rounds_to_win = int((n_rounds)/2)+1\n",
    "counter_rounds = 0\n",
    "cpu_score = 0\n",
    "player_score = 0\n",
    "\n",
    "while (counter_rounds < n_rounds) & (cpu_score < rounds_to_win) & (player_score < rounds_to_win):\n",
    "    \n",
    "    print()\n",
    "    print(\"Round\", counter_rounds+1)\n",
    "    \n",
    "    player ()\n",
    "    computer ()\n",
    "    check_winner ()\n",
    "    print_winner ()\n",
    "    \n",
    "    counter_rounds += 1\n",
    "\n",
    "print()\n",
    "\n",
    "if counter_rounds == n_rounds:\n",
    "    print(\"The maximum number of rounds is reached\")\n",
    "else: print(\"No need to continue, we have a winner already\")"
   ]
  },
  {
   "cell_type": "markdown",
   "metadata": {},
   "source": [
    "#### 11. Print the winner of the game based on who won more rounds.\n",
    "Remember that the game might be tied. "
   ]
  },
  {
   "cell_type": "code",
   "execution_count": 13,
   "metadata": {},
   "outputs": [
    {
     "name": "stdout",
     "output_type": "stream",
     "text": [
      "The game is tied.\n"
     ]
    }
   ],
   "source": [
    "if cpu_score < player_score:\n",
    "    print(\"The winner is player.\")\n",
    "elif cpu_score > player_score:\n",
    "    print(\"The winner is computer.\")\n",
    "else:\n",
    "    print (\"The game is tied.\")"
   ]
  },
  {
   "cell_type": "markdown",
   "metadata": {},
   "source": [
    "# Bonus: Rock, Paper, Scissors, Lizard & Spock\n",
    "![](images/rpsls.jpg)\n",
    "\n",
    "In this challenge, you need to improve the previous game by adding two new options. To know more about the rules of the improved version of rock, paper, scissors, check this [link](http://www.samkass.com/theories/RPSSL.html). \n",
    "\n",
    "In addition, you will also need to improve how the game interacts with the player: the number of rounds to play, which must be an odd number, will be requested to the user until a valid number is entered. Define a new function to make that request.\n",
    "\n",
    "**Hint**: Try to reuse the code that you already coded in the previous challenge. If your code is efficient, this bonus will only consist of simple modifications to the original game."
   ]
  },
  {
   "cell_type": "code",
   "execution_count": null,
   "metadata": {},
   "outputs": [],
   "source": []
  }
 ],
 "metadata": {
  "kernelspec": {
   "display_name": "Python 3",
   "language": "python",
   "name": "python3"
  },
  "language_info": {
   "codemirror_mode": {
    "name": "ipython",
    "version": 3
   },
   "file_extension": ".py",
   "mimetype": "text/x-python",
   "name": "python",
   "nbconvert_exporter": "python",
   "pygments_lexer": "ipython3",
   "version": "3.8.6"
  }
 },
 "nbformat": 4,
 "nbformat_minor": 2
}
