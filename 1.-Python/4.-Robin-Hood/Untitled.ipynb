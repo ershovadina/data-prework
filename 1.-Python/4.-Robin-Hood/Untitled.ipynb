{
 "cells": [
  {
   "cell_type": "code",
   "execution_count": 23,
   "metadata": {},
   "outputs": [],
   "source": [
    "points = [[4, 5], [-0, 2], [4, 7]]"
   ]
  },
  {
   "cell_type": "code",
   "execution_count": 24,
   "metadata": {},
   "outputs": [
    {
     "name": "stdout",
     "output_type": "stream",
     "text": [
      "[6.4031242374328485, 2.0, 8.06225774829855]\n",
      "[[4, 5], [0, 2], [4, 7]]\n",
      "[[4, 5, 6], [0, 2, 2], [4, 7, 8]]\n",
      "The distance from the center to the closest point is 2\n"
     ]
    }
   ],
   "source": [
    "distance_list = []\n",
    "distance = 0\n",
    "center = [[0,0]]\n",
    "\n",
    "for i in range (0,len(points)):\n",
    "    distance = ((points[i][0]-center[0][0])**2+(points[i][1]-center[0][1])**2)**0.5\n",
    "    distance_list.append(distance)\n",
    "    \n",
    " \n",
    "print(distance_list)\n",
    "print(points)\n",
    "\n",
    "for i in range (0,len(points)):\n",
    "    points[i].append(round(distance_list[i]))\n",
    "                     \n",
    "                     \n",
    "print (points)\n",
    "#z = zip (points, distance_list)\n",
    "#list(z)\n",
    "\n",
    "distance_list.sort()\n",
    "\n",
    "#print(distance_list)\n",
    "\n",
    "print(\"The distance from the center to the closest point is\", round(distance_list[0]))"
   ]
  },
  {
   "cell_type": "code",
   "execution_count": 21,
   "metadata": {},
   "outputs": [
    {
     "data": {
      "text/plain": [
       "4"
      ]
     },
     "execution_count": 21,
     "metadata": {},
     "output_type": "execute_result"
    }
   ],
   "source": [
    "min(points[2])"
   ]
  }
 ],
 "metadata": {
  "kernelspec": {
   "display_name": "Python 3",
   "language": "python",
   "name": "python3"
  },
  "language_info": {
   "codemirror_mode": {
    "name": "ipython",
    "version": 3
   },
   "file_extension": ".py",
   "mimetype": "text/x-python",
   "name": "python",
   "nbconvert_exporter": "python",
   "pygments_lexer": "ipython3",
   "version": "3.8.6"
  }
 },
 "nbformat": 4,
 "nbformat_minor": 4
}
