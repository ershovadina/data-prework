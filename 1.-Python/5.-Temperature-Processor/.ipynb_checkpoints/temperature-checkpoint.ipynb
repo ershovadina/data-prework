{
 "cells": [
  {
   "cell_type": "markdown",
   "metadata": {},
   "source": [
    "<img src=\"https://bit.ly/2VnXWr2\" width=\"100\" align=\"left\">"
   ]
  },
  {
   "cell_type": "markdown",
   "metadata": {},
   "source": [
    "# Temperature Sensor\n",
    "\n",
    "There is a temperature sensor in the processor of your company's server. The company wants to analyze the data provided by the sensor to decide if they should change the cooling system for a better one. As changing the cooling system is expensive and you are an excellent data analyst, you can't make a decision without basis.\n",
    "\n",
    "## Tools\n",
    "You don't necessarily need to use all the tools. Maybe you opt to use some of them or completely different ones, they are given to help you shape the exercise. Programming exercises can be solved in many different ways.\n",
    "1. Data structures: **lists**\n",
    "2. Loops: **list comprehension**\n",
    "3. Functions: **min, max, print, len**\n",
    "4. Conditional statements: **if-elif-else**\n",
    "\n",
    "## Tasks\n",
    "The temperatures measured throughout the 24 hours of a day are:"
   ]
  },
  {
   "cell_type": "code",
   "execution_count": 9,
   "metadata": {},
   "outputs": [],
   "source": [
    "temperatures_C = [33, 66, 65, 0, 59, 60, 62, 64, 70, 76, 80, 81, 80, 83, 90, 79, 61, 53, 50, 49, 53, 48, 45, 39]"
   ]
  },
  {
   "cell_type": "markdown",
   "metadata": {},
   "source": [
    "The first element of the list is the temperature at 12am, the second element is the temperature at 1am, and so on. \n",
    "\n",
    "The company has decided that if one of the following events occurs, then the cooling system needs to be replaced for a new one to avoid damaging the processor.\n",
    "* More than 4 temperatures are greater than or equal to 70ºC.\n",
    "* Any temperature is above 80ºC.\n",
    "* The average temperature exceeds 65ºC.\n",
    "\n",
    "Follow the steps so that you can make the decision.\n",
    "\n",
    "#### 1. Find the minimum temperature of the day and store it in a variable."
   ]
  },
  {
   "cell_type": "code",
   "execution_count": 10,
   "metadata": {},
   "outputs": [
    {
     "name": "stdout",
     "output_type": "stream",
     "text": [
      "The minimum temperature of the day is 0 ºC\n"
     ]
    }
   ],
   "source": [
    "minimum_C = min(temperatures_C)\n",
    "\n",
    "print(\"The minimum temperature of the day is\", minimum_C,\"ºC\")"
   ]
  },
  {
   "cell_type": "markdown",
   "metadata": {},
   "source": [
    "#### 2. Find the maximum temperature of the day and store it in a variable."
   ]
  },
  {
   "cell_type": "code",
   "execution_count": 11,
   "metadata": {},
   "outputs": [
    {
     "name": "stdout",
     "output_type": "stream",
     "text": [
      "The maximum temperature of the day is 90 ºC\n"
     ]
    }
   ],
   "source": [
    "maximum_C = max(temperatures_C)\n",
    "\n",
    "print(\"The maximum temperature of the day is\", maximum_C,\"ºC\")"
   ]
  },
  {
   "cell_type": "markdown",
   "metadata": {},
   "source": [
    "#### 3. Create a list with the temperatures that are greater than or equal to 70ºC. Store it in a variable."
   ]
  },
  {
   "cell_type": "code",
   "execution_count": 12,
   "metadata": {},
   "outputs": [
    {
     "name": "stdout",
     "output_type": "stream",
     "text": [
      "[70, 76, 80, 81, 80, 83, 90, 79]\n",
      "8 temperatures are greater than or equal to 70ºC\n"
     ]
    }
   ],
   "source": [
    "temperatures_C_70 = [x for x in temperatures_C if x >= 70]\n",
    "print(temperatures_C_70)\n",
    "print(len(temperatures_C_70), \"temperatures are greater than or equal to 70ºC\")"
   ]
  },
  {
   "cell_type": "markdown",
   "metadata": {},
   "source": [
    "#### 4. Find the average temperature of the day and store it in a variable."
   ]
  },
  {
   "cell_type": "code",
   "execution_count": 13,
   "metadata": {},
   "outputs": [
    {
     "name": "stdout",
     "output_type": "stream",
     "text": [
      "The average temperature of the day is 60.25 ºC\n"
     ]
    }
   ],
   "source": [
    "average_C = sum(temperatures_C)/len(temperatures_C)\n",
    "\n",
    "print(\"The average temperature of the day is\", average_C, \"ºC\")"
   ]
  },
  {
   "cell_type": "markdown",
   "metadata": {},
   "source": [
    "#### 5. Imagine that there was a sensor failure at 3am and the data for that specific hour was not recorded. How would you estimate the missing value? Replace the current value of the list at 3am for an estimation. "
   ]
  },
  {
   "cell_type": "code",
   "execution_count": 14,
   "metadata": {},
   "outputs": [
    {
     "name": "stdout",
     "output_type": "stream",
     "text": [
      "[33, 66, 65, 60.25, 59, 60, 62, 64, 70, 76, 80, 81, 80, 83, 90, 79, 61, 53, 50, 49, 53, 48, 45, 39]\n",
      "The adjusted average temperature of the day is 62.760416666666664 ºC\n"
     ]
    }
   ],
   "source": [
    "start = 0\n",
    "hour = 0\n",
    "\n",
    "temperatures_C_adj = []\n",
    "\n",
    "for i in range (0,len(temperatures_C)):\n",
    "    if i == start + 3:\n",
    "        temperatures_C_adj.append(average_C)\n",
    "    else: \n",
    "        temperatures_C_adj.append(temperatures_C[i])\n",
    "\n",
    "print (temperatures_C_adj)\n",
    "\n",
    "average_adjusted_C = sum(temperatures_C_adj)/len(temperatures_C_adj)\n",
    "\n",
    "print(\"The adjusted average temperature of the day is\", average_adjusted_C,\"ºC\")\n"
   ]
  },
  {
   "cell_type": "markdown",
   "metadata": {},
   "source": [
    "#### 6. Bonus: the maintenance staff is from the United States and does not understand the international metric system. Help them by converting the temperatures from Celsius to Fahrenheit.\n",
    "To know more about temperature conversion check this [link](https://en.wikipedia.org/wiki/Conversion_of_units_of_temperature).\n",
    "\n",
    "**Formula**: \n",
    "\n",
    "$F = 1.8 * C + 32$"
   ]
  },
  {
   "cell_type": "code",
   "execution_count": 15,
   "metadata": {},
   "outputs": [
    {
     "name": "stdout",
     "output_type": "stream",
     "text": [
      "[91.4, 150.8, 149.0, 32.0, 138.2, 140.0, 143.60000000000002, 147.2, 158.0, 168.8, 176.0, 177.8, 176.0, 181.4, 194.0, 174.20000000000002, 141.8, 127.4, 122.0, 120.2, 127.4, 118.4, 113.0, 102.2]\n"
     ]
    }
   ],
   "source": [
    "temperatures_F = [(1.8*x+32) for x in temperatures_C]\n",
    "print(temperatures_F)"
   ]
  },
  {
   "cell_type": "markdown",
   "metadata": {},
   "source": [
    "#### 7. Make a decision!\n",
    "Now it's time to make a decision taking into account what you have seen until now. \n",
    "\n",
    "Remember that if one of the following events occurs, then the cooling system needs to be replaced for a new one to avoid damaging the processor.\n",
    "* More than 4 temperatures are greater than or equal to 70ºC.\n",
    "* Any temperature is above 80ºC.\n",
    "* The average temperature exceeds 65ºC.\n",
    "\n",
    "#### To make your decision, check if any of the three conditions above is met. You might need to use some of the variables you created in steps 1 to 6. Print a message to show if the cooling system needs to be changed or not."
   ]
  },
  {
   "cell_type": "code",
   "execution_count": 16,
   "metadata": {},
   "outputs": [
    {
     "name": "stdout",
     "output_type": "stream",
     "text": [
      "condition 1 is met\n",
      "condition 2 is met\n",
      "condition 3 is not met\n",
      "The cooling system needs to be changed\n"
     ]
    }
   ],
   "source": [
    "#check if condition 1 is met\n",
    "if len(temperatures_C_70) > 4:\n",
    "    print(\"condition 1 is met\")\n",
    "else:\n",
    "    print (\"condition 1 is not met\")\n",
    "    \n",
    "#check if condition 2 is met  \n",
    "temperatures_C_80 = [x for x in temperatures_C if x > 80]\n",
    "if len(temperatures_C_80) > 0:\n",
    "    print(\"condition 2 is met\")\n",
    "else:\n",
    "    print (\"condition 2 is not met\")\n",
    "\n",
    "#check if condition 3 is met    \n",
    "if average_adjusted_C > 65:\n",
    "    print(\"condition 3 is met\")\n",
    "else:\n",
    "    print (\"condition 3 is not met\")\n",
    "    \n",
    "\n",
    "#print final decision\n",
    "if (len(temperatures_C_70) > 4) | (len(temperatures_C_80) > 0) | (average_adjusted_C > 65):\n",
    "    print(\"The cooling system needs to be changed\")\n",
    "else:\n",
    "    print (\"The cooling system does not need to be changed\")"
   ]
  },
  {
   "cell_type": "markdown",
   "metadata": {},
   "source": [
    "## Bonus\n",
    "\n",
    "The company has decided that the decision you made is not valid. They want you to analyze the data again but this time, the conditions that need to be met in order to change the cooling system are different.\n",
    "\n",
    "This time, if one of the following events occurs, then the cooling system needs to be replaced:\n",
    "* The temperature is greater than 70ºC during more than 4 consecutive hours.\n",
    "* Any temperature is above 80ºC.\n",
    "* The average temperature exceeds 65ºC.\n",
    "\n",
    "Follow the steps so that you can make the decision.\n",
    "\n",
    "#### 1. Create a list with the hours where the temperature is greater than 70ºC. Store it in a variable."
   ]
  },
  {
   "cell_type": "code",
   "execution_count": 17,
   "metadata": {
    "scrolled": true
   },
   "outputs": [
    {
     "name": "stdout",
     "output_type": "stream",
     "text": [
      "[9, 10, 11, 12, 13, 14, 15]\n"
     ]
    }
   ],
   "source": [
    "temperatures_C_hours = [] \n",
    "\n",
    "\n",
    "for i in range (0,len(temperatures_C)):\n",
    "    if temperatures_C[i] > 70:\n",
    "        temperatures_C_hours.append(i)\n",
    "        \n",
    "print (temperatures_C_hours)"
   ]
  },
  {
   "cell_type": "markdown",
   "metadata": {},
   "source": [
    "#### 2. Check if the list you created in step 1 has more than 4 consecutive hours. "
   ]
  },
  {
   "cell_type": "code",
   "execution_count": 18,
   "metadata": {},
   "outputs": [
    {
     "name": "stdout",
     "output_type": "stream",
     "text": [
      "[2, 3, 4, 5, 6, 7]\n",
      "7\n",
      "A list with the hours where the temperature is greater than 70ºC has more than 4 consecutive hours\n"
     ]
    }
   ],
   "source": [
    "count = 1\n",
    "count_lst = []\n",
    "\n",
    "for i in range (1,len(temperatures_C_hours)):\n",
    "    x = temperatures_C_hours[i] - temperatures_C_hours[i-1]\n",
    "    if x == 1:\n",
    "        count += 1\n",
    "        count_lst.append(count)\n",
    "    else:\n",
    "        count = 1\n",
    "        count_lst.append(count)\n",
    "        \n",
    "print (count_lst)\n",
    "print (max(count_lst))\n",
    "\n",
    "if max(count_lst) > 4:\n",
    "    print (\"A list with the hours where the temperature is greater than 70ºC has more than 4 consecutive hours\")\n",
    "else:\n",
    "    print (\"A list with the hours where the temperature is greater than 70ºC doe not have more than 4 consecutive hours\")  \n"
   ]
  },
  {
   "cell_type": "markdown",
   "metadata": {},
   "source": [
    "#### 3. Make the decision!\n",
    "To make your decision, check if any of the three conditions is met. Print a message to show if the cooling system needs to be changed or not."
   ]
  },
  {
   "cell_type": "code",
   "execution_count": 19,
   "metadata": {},
   "outputs": [
    {
     "name": "stdout",
     "output_type": "stream",
     "text": [
      "The cooling system needs to be changed\n"
     ]
    }
   ],
   "source": [
    "if (max(count_lst) > 4) | (len(temperatures_C_80) > 0) | (average_adjusted_C > 65):\n",
    "    print(\"The cooling system needs to be changed\")\n",
    "else:\n",
    "    print (\"The cooling system does not need to be changed\")"
   ]
  },
  {
   "cell_type": "markdown",
   "metadata": {},
   "source": [
    "#### 4. Find the average value of the temperature lists (ºC and ºF). What is the relation between both average values?"
   ]
  },
  {
   "cell_type": "code",
   "execution_count": 20,
   "metadata": {},
   "outputs": [
    {
     "name": "stdout",
     "output_type": "stream",
     "text": [
      "The average temperature of the day is 60.25 ºC or 140.45 ºF\n",
      "The average temparature in ºF is higher than the average temperature in ºC by 133.11203319502073 percent\n"
     ]
    }
   ],
   "source": [
    "average_F = sum(temperatures_F)/len(temperatures_F)\n",
    "\n",
    "print(\"The average temperature of the day is\", average_C, \"ºC or\", average_F, \"ºF\" )\n",
    "\n",
    "diff = (abs(average_C - average_F)/average_C)*100\n",
    "\n",
    "print(\"The average temparature in ºF is higher than the average temperature in ºC by\", diff, \"percent\")"
   ]
  },
  {
   "cell_type": "markdown",
   "metadata": {},
   "source": [
    "#### 5. Find the standard deviation of the temperature lists (ºC and ºF). What is the relation between both standard deviations?"
   ]
  },
  {
   "cell_type": "code",
   "execution_count": 21,
   "metadata": {},
   "outputs": [
    {
     "name": "stdout",
     "output_type": "stream",
     "text": [
      "The standard deviation of the temperature list is 19.285681216902866 ºC or 34.71422619042516 ºF\n",
      "The standard deviation in ºF is higher than the standard deviation in ºC by 80.0 percent\n"
     ]
    }
   ],
   "source": [
    "y_C = 0\n",
    "\n",
    "for i in range (0,len(temperatures_C)):\n",
    "    y_C += (temperatures_C[i] - average_C)**2\n",
    "\n",
    "standard_deviation_C = (y_C/len(temperatures_C))**0.5\n",
    "\n",
    "\n",
    "y_F = 0\n",
    "\n",
    "for i in range (0,len(temperatures_F)):\n",
    "    y_F += (temperatures_F[i] - average_F)**2\n",
    "\n",
    "standard_deviation_F = (y_F/len(temperatures_F))**0.5\n",
    "\n",
    "\n",
    "print (\"The standard deviation of the temperature list is\", standard_deviation_C, \"ºC or\", standard_deviation_F, \"ºF\")\n",
    "\n",
    "diff2 = (abs(standard_deviation_C-standard_deviation_F)/standard_deviation_C)*100\n",
    "\n",
    "\n",
    "print(\"The standard deviation in ºF is higher than the standard deviation in ºC by\", diff2, \"percent\")"
   ]
  }
 ],
 "metadata": {
  "kernelspec": {
   "display_name": "Python 3",
   "language": "python",
   "name": "python3"
  },
  "language_info": {
   "codemirror_mode": {
    "name": "ipython",
    "version": 3
   },
   "file_extension": ".py",
   "mimetype": "text/x-python",
   "name": "python",
   "nbconvert_exporter": "python",
   "pygments_lexer": "ipython3",
   "version": "3.8.6"
  }
 },
 "nbformat": 4,
 "nbformat_minor": 2
}
